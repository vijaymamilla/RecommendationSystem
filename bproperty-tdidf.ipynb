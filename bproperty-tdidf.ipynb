{
 "cells": [
  {
   "cell_type": "code",
   "execution_count": 1,
   "id": "26341b97",
   "metadata": {},
   "outputs": [],
   "source": [
    "import numpy as np\n",
    "import pandas as pd"
   ]
  },
  {
   "cell_type": "code",
   "execution_count": 2,
   "id": "803fed0c",
   "metadata": {},
   "outputs": [],
   "source": [
    "df = pd.read_csv('bproperty.csv')"
   ]
  },
  {
   "cell_type": "code",
   "execution_count": 3,
   "id": "31ccb029",
   "metadata": {},
   "outputs": [
    {
     "data": {
      "text/html": [
       "<div>\n",
       "<style scoped>\n",
       "    .dataframe tbody tr th:only-of-type {\n",
       "        vertical-align: middle;\n",
       "    }\n",
       "\n",
       "    .dataframe tbody tr th {\n",
       "        vertical-align: top;\n",
       "    }\n",
       "\n",
       "    .dataframe thead th {\n",
       "        text-align: right;\n",
       "    }\n",
       "</style>\n",
       "<table border=\"1\" class=\"dataframe\">\n",
       "  <thead>\n",
       "    <tr style=\"text-align: right;\">\n",
       "      <th></th>\n",
       "      <th>area</th>\n",
       "      <th>building_type</th>\n",
       "      <th>building_nature</th>\n",
       "      <th>image_url</th>\n",
       "      <th>num_bath_rooms</th>\n",
       "      <th>num_bed_rooms</th>\n",
       "      <th>price</th>\n",
       "      <th>property_description</th>\n",
       "      <th>property_overview</th>\n",
       "      <th>property_url</th>\n",
       "      <th>purpose</th>\n",
       "      <th>city</th>\n",
       "      <th>locality</th>\n",
       "      <th>address</th>\n",
       "      <th>id</th>\n",
       "    </tr>\n",
       "  </thead>\n",
       "  <tbody>\n",
       "    <tr>\n",
       "      <th>0</th>\n",
       "      <td>1185.0</td>\n",
       "      <td>Apartment</td>\n",
       "      <td>Residential</td>\n",
       "      <td>https://images-cdn.bproperty.com/thumbnails/15...</td>\n",
       "      <td>0.0</td>\n",
       "      <td>3.0</td>\n",
       "      <td>6100000.0</td>\n",
       "      <td>Grab This 1185 Sq Ft Beautiful Flat Is Vacant ...</td>\n",
       "      <td>This flat consists of facilities you can think...</td>\n",
       "      <td>https://www.bproperty.com/en/property/details-...</td>\n",
       "      <td>Sale</td>\n",
       "      <td>Dhaka</td>\n",
       "      <td>Khilgaon</td>\n",
       "      <td>NaN</td>\n",
       "      <td>bproperty-0</td>\n",
       "    </tr>\n",
       "    <tr>\n",
       "      <th>1</th>\n",
       "      <td>2464.0</td>\n",
       "      <td>Apartment</td>\n",
       "      <td>Residential</td>\n",
       "      <td>https://images-cdn.bproperty.com/thumbnails/15...</td>\n",
       "      <td>4.0</td>\n",
       "      <td>3.0</td>\n",
       "      <td>28900000.0</td>\n",
       "      <td>A Vibrant 2464 Sq Ft Residential Flat For Sale...</td>\n",
       "      <td>Ready to move in somewhere with everything nea...</td>\n",
       "      <td>https://www.bproperty.com/en/property/details-...</td>\n",
       "      <td>Sale</td>\n",
       "      <td>Dhaka</td>\n",
       "      <td>Dhanmondi</td>\n",
       "      <td>NaN</td>\n",
       "      <td>bproperty-1</td>\n",
       "    </tr>\n",
       "    <tr>\n",
       "      <th>2</th>\n",
       "      <td>1140.0</td>\n",
       "      <td>Apartment</td>\n",
       "      <td>Residential</td>\n",
       "      <td>https://images-cdn.bproperty.com/thumbnails/15...</td>\n",
       "      <td>0.0</td>\n",
       "      <td>3.0</td>\n",
       "      <td>7500000.0</td>\n",
       "      <td>1140 Sq Ft Nicely Planned Apartment Is Availab...</td>\n",
       "      <td>A spacious 1140  Square Feet apartment in Mirp...</td>\n",
       "      <td>https://www.bproperty.com/en/property/details-...</td>\n",
       "      <td>Sale</td>\n",
       "      <td>Dhaka</td>\n",
       "      <td>Mirpur</td>\n",
       "      <td>Block Ta, Section 6</td>\n",
       "      <td>bproperty-2</td>\n",
       "    </tr>\n",
       "    <tr>\n",
       "      <th>3</th>\n",
       "      <td>1920.0</td>\n",
       "      <td>Apartment</td>\n",
       "      <td>Residential</td>\n",
       "      <td>https://images-cdn.bproperty.com/thumbnails/15...</td>\n",
       "      <td>3.0</td>\n",
       "      <td>3.0</td>\n",
       "      <td>20000000.0</td>\n",
       "      <td>A Modern Well-planned Apartment Of 1920 Sq Ft ...</td>\n",
       "      <td>Looking for the perfect home that offers a lux...</td>\n",
       "      <td>https://www.bproperty.com/en/property/details-...</td>\n",
       "      <td>Sale</td>\n",
       "      <td>Dhaka</td>\n",
       "      <td>Bashundhara R-A</td>\n",
       "      <td>Block J</td>\n",
       "      <td>bproperty-3</td>\n",
       "    </tr>\n",
       "    <tr>\n",
       "      <th>4</th>\n",
       "      <td>1445.0</td>\n",
       "      <td>Apartment</td>\n",
       "      <td>Residential</td>\n",
       "      <td>https://images-cdn.bproperty.com/thumbnails/15...</td>\n",
       "      <td>3.0</td>\n",
       "      <td>3.0</td>\n",
       "      <td>10800000.0</td>\n",
       "      <td>1445 Sq Ft Ready Flat For Sale In Banasree, Wi...</td>\n",
       "      <td>Choosing a new home can be an overwhelming exp...</td>\n",
       "      <td>https://www.bproperty.com/en/property/details-...</td>\n",
       "      <td>Sale</td>\n",
       "      <td>Dhaka</td>\n",
       "      <td>Banasree</td>\n",
       "      <td>Block M, South Banasree Project</td>\n",
       "      <td>bproperty-4</td>\n",
       "    </tr>\n",
       "  </tbody>\n",
       "</table>\n",
       "</div>"
      ],
      "text/plain": [
       "     area building_type building_nature  \\\n",
       "0  1185.0     Apartment     Residential   \n",
       "1  2464.0     Apartment     Residential   \n",
       "2  1140.0     Apartment     Residential   \n",
       "3  1920.0     Apartment     Residential   \n",
       "4  1445.0     Apartment     Residential   \n",
       "\n",
       "                                           image_url  num_bath_rooms  \\\n",
       "0  https://images-cdn.bproperty.com/thumbnails/15...             0.0   \n",
       "1  https://images-cdn.bproperty.com/thumbnails/15...             4.0   \n",
       "2  https://images-cdn.bproperty.com/thumbnails/15...             0.0   \n",
       "3  https://images-cdn.bproperty.com/thumbnails/15...             3.0   \n",
       "4  https://images-cdn.bproperty.com/thumbnails/15...             3.0   \n",
       "\n",
       "   num_bed_rooms       price  \\\n",
       "0            3.0   6100000.0   \n",
       "1            3.0  28900000.0   \n",
       "2            3.0   7500000.0   \n",
       "3            3.0  20000000.0   \n",
       "4            3.0  10800000.0   \n",
       "\n",
       "                                property_description  \\\n",
       "0  Grab This 1185 Sq Ft Beautiful Flat Is Vacant ...   \n",
       "1  A Vibrant 2464 Sq Ft Residential Flat For Sale...   \n",
       "2  1140 Sq Ft Nicely Planned Apartment Is Availab...   \n",
       "3  A Modern Well-planned Apartment Of 1920 Sq Ft ...   \n",
       "4  1445 Sq Ft Ready Flat For Sale In Banasree, Wi...   \n",
       "\n",
       "                                   property_overview  \\\n",
       "0  This flat consists of facilities you can think...   \n",
       "1  Ready to move in somewhere with everything nea...   \n",
       "2  A spacious 1140  Square Feet apartment in Mirp...   \n",
       "3  Looking for the perfect home that offers a lux...   \n",
       "4  Choosing a new home can be an overwhelming exp...   \n",
       "\n",
       "                                        property_url purpose   city  \\\n",
       "0  https://www.bproperty.com/en/property/details-...    Sale  Dhaka   \n",
       "1  https://www.bproperty.com/en/property/details-...    Sale  Dhaka   \n",
       "2  https://www.bproperty.com/en/property/details-...    Sale  Dhaka   \n",
       "3  https://www.bproperty.com/en/property/details-...    Sale  Dhaka   \n",
       "4  https://www.bproperty.com/en/property/details-...    Sale  Dhaka   \n",
       "\n",
       "          locality                          address           id  \n",
       "0         Khilgaon                              NaN  bproperty-0  \n",
       "1        Dhanmondi                              NaN  bproperty-1  \n",
       "2           Mirpur              Block Ta, Section 6  bproperty-2  \n",
       "3  Bashundhara R-A                          Block J  bproperty-3  \n",
       "4         Banasree  Block M, South Banasree Project  bproperty-4  "
      ]
     },
     "execution_count": 3,
     "metadata": {},
     "output_type": "execute_result"
    }
   ],
   "source": [
    "df.head()"
   ]
  },
  {
   "cell_type": "code",
   "execution_count": 4,
   "id": "9518d612",
   "metadata": {},
   "outputs": [
    {
     "data": {
      "text/plain": [
       "area                       0\n",
       "building_type              0\n",
       "building_nature            0\n",
       "image_url                 17\n",
       "num_bath_rooms             0\n",
       "num_bed_rooms              0\n",
       "price                      0\n",
       "property_description       0\n",
       "property_overview          0\n",
       "property_url               0\n",
       "purpose                    0\n",
       "city                       0\n",
       "locality                  47\n",
       "address                 4727\n",
       "id                         0\n",
       "dtype: int64"
      ]
     },
     "execution_count": 4,
     "metadata": {},
     "output_type": "execute_result"
    }
   ],
   "source": [
    "df.isnull().sum()"
   ]
  },
  {
   "cell_type": "code",
   "execution_count": 5,
   "id": "83a3b7f2",
   "metadata": {},
   "outputs": [],
   "source": [
    "df = df.drop(columns=['address'])"
   ]
  },
  {
   "cell_type": "code",
   "execution_count": 6,
   "id": "48e63458",
   "metadata": {},
   "outputs": [
    {
     "data": {
      "text/plain": [
       "(17329, 14)"
      ]
     },
     "execution_count": 6,
     "metadata": {},
     "output_type": "execute_result"
    }
   ],
   "source": [
    "df.shape"
   ]
  },
  {
   "cell_type": "code",
   "execution_count": 7,
   "id": "233ae178",
   "metadata": {},
   "outputs": [
    {
     "data": {
      "text/plain": [
       "area                     0\n",
       "building_type            0\n",
       "building_nature          0\n",
       "image_url               17\n",
       "num_bath_rooms           0\n",
       "num_bed_rooms            0\n",
       "price                    0\n",
       "property_description     0\n",
       "property_overview        0\n",
       "property_url             0\n",
       "purpose                  0\n",
       "city                     0\n",
       "locality                47\n",
       "id                       0\n",
       "dtype: int64"
      ]
     },
     "execution_count": 7,
     "metadata": {},
     "output_type": "execute_result"
    }
   ],
   "source": [
    "df.isnull().sum()\n"
   ]
  },
  {
   "cell_type": "code",
   "execution_count": 8,
   "id": "c1c7ff7f",
   "metadata": {},
   "outputs": [],
   "source": [
    "df = df.dropna()\n"
   ]
  },
  {
   "cell_type": "code",
   "execution_count": 9,
   "id": "e284d516",
   "metadata": {},
   "outputs": [
    {
     "data": {
      "text/plain": [
       "(17265, 14)"
      ]
     },
     "execution_count": 9,
     "metadata": {},
     "output_type": "execute_result"
    }
   ],
   "source": [
    "df.shape\n"
   ]
  },
  {
   "cell_type": "code",
   "execution_count": 10,
   "id": "5020dc6a",
   "metadata": {},
   "outputs": [],
   "source": [
    "df['overview'] = df['property_description']+\" \"+ df['property_overview']"
   ]
  },
  {
   "cell_type": "code",
   "execution_count": 11,
   "id": "618cfb85",
   "metadata": {},
   "outputs": [
    {
     "data": {
      "text/plain": [
       "(17265, 15)"
      ]
     },
     "execution_count": 11,
     "metadata": {},
     "output_type": "execute_result"
    }
   ],
   "source": [
    "df.shape"
   ]
  },
  {
   "cell_type": "code",
   "execution_count": 12,
   "id": "327f28af",
   "metadata": {},
   "outputs": [],
   "source": [
    "df['overview'] = df['overview'].apply(lambda x:x.lower())"
   ]
  },
  {
   "cell_type": "code",
   "execution_count": 13,
   "id": "924b3d29",
   "metadata": {},
   "outputs": [
    {
     "data": {
      "text/html": [
       "<div>\n",
       "<style scoped>\n",
       "    .dataframe tbody tr th:only-of-type {\n",
       "        vertical-align: middle;\n",
       "    }\n",
       "\n",
       "    .dataframe tbody tr th {\n",
       "        vertical-align: top;\n",
       "    }\n",
       "\n",
       "    .dataframe thead th {\n",
       "        text-align: right;\n",
       "    }\n",
       "</style>\n",
       "<table border=\"1\" class=\"dataframe\">\n",
       "  <thead>\n",
       "    <tr style=\"text-align: right;\">\n",
       "      <th></th>\n",
       "      <th>area</th>\n",
       "      <th>building_type</th>\n",
       "      <th>building_nature</th>\n",
       "      <th>image_url</th>\n",
       "      <th>num_bath_rooms</th>\n",
       "      <th>num_bed_rooms</th>\n",
       "      <th>price</th>\n",
       "      <th>property_description</th>\n",
       "      <th>property_overview</th>\n",
       "      <th>property_url</th>\n",
       "      <th>purpose</th>\n",
       "      <th>city</th>\n",
       "      <th>locality</th>\n",
       "      <th>id</th>\n",
       "      <th>overview</th>\n",
       "    </tr>\n",
       "  </thead>\n",
       "  <tbody>\n",
       "    <tr>\n",
       "      <th>0</th>\n",
       "      <td>1185.0</td>\n",
       "      <td>Apartment</td>\n",
       "      <td>Residential</td>\n",
       "      <td>https://images-cdn.bproperty.com/thumbnails/15...</td>\n",
       "      <td>0.0</td>\n",
       "      <td>3.0</td>\n",
       "      <td>6100000.0</td>\n",
       "      <td>Grab This 1185 Sq Ft Beautiful Flat Is Vacant ...</td>\n",
       "      <td>This flat consists of facilities you can think...</td>\n",
       "      <td>https://www.bproperty.com/en/property/details-...</td>\n",
       "      <td>Sale</td>\n",
       "      <td>Dhaka</td>\n",
       "      <td>Khilgaon</td>\n",
       "      <td>bproperty-0</td>\n",
       "      <td>grab this 1185 sq ft beautiful flat is vacant ...</td>\n",
       "    </tr>\n",
       "    <tr>\n",
       "      <th>1</th>\n",
       "      <td>2464.0</td>\n",
       "      <td>Apartment</td>\n",
       "      <td>Residential</td>\n",
       "      <td>https://images-cdn.bproperty.com/thumbnails/15...</td>\n",
       "      <td>4.0</td>\n",
       "      <td>3.0</td>\n",
       "      <td>28900000.0</td>\n",
       "      <td>A Vibrant 2464 Sq Ft Residential Flat For Sale...</td>\n",
       "      <td>Ready to move in somewhere with everything nea...</td>\n",
       "      <td>https://www.bproperty.com/en/property/details-...</td>\n",
       "      <td>Sale</td>\n",
       "      <td>Dhaka</td>\n",
       "      <td>Dhanmondi</td>\n",
       "      <td>bproperty-1</td>\n",
       "      <td>a vibrant 2464 sq ft residential flat for sale...</td>\n",
       "    </tr>\n",
       "    <tr>\n",
       "      <th>2</th>\n",
       "      <td>1140.0</td>\n",
       "      <td>Apartment</td>\n",
       "      <td>Residential</td>\n",
       "      <td>https://images-cdn.bproperty.com/thumbnails/15...</td>\n",
       "      <td>0.0</td>\n",
       "      <td>3.0</td>\n",
       "      <td>7500000.0</td>\n",
       "      <td>1140 Sq Ft Nicely Planned Apartment Is Availab...</td>\n",
       "      <td>A spacious 1140  Square Feet apartment in Mirp...</td>\n",
       "      <td>https://www.bproperty.com/en/property/details-...</td>\n",
       "      <td>Sale</td>\n",
       "      <td>Dhaka</td>\n",
       "      <td>Mirpur</td>\n",
       "      <td>bproperty-2</td>\n",
       "      <td>1140 sq ft nicely planned apartment is availab...</td>\n",
       "    </tr>\n",
       "    <tr>\n",
       "      <th>3</th>\n",
       "      <td>1920.0</td>\n",
       "      <td>Apartment</td>\n",
       "      <td>Residential</td>\n",
       "      <td>https://images-cdn.bproperty.com/thumbnails/15...</td>\n",
       "      <td>3.0</td>\n",
       "      <td>3.0</td>\n",
       "      <td>20000000.0</td>\n",
       "      <td>A Modern Well-planned Apartment Of 1920 Sq Ft ...</td>\n",
       "      <td>Looking for the perfect home that offers a lux...</td>\n",
       "      <td>https://www.bproperty.com/en/property/details-...</td>\n",
       "      <td>Sale</td>\n",
       "      <td>Dhaka</td>\n",
       "      <td>Bashundhara R-A</td>\n",
       "      <td>bproperty-3</td>\n",
       "      <td>a modern well-planned apartment of 1920 sq ft ...</td>\n",
       "    </tr>\n",
       "    <tr>\n",
       "      <th>4</th>\n",
       "      <td>1445.0</td>\n",
       "      <td>Apartment</td>\n",
       "      <td>Residential</td>\n",
       "      <td>https://images-cdn.bproperty.com/thumbnails/15...</td>\n",
       "      <td>3.0</td>\n",
       "      <td>3.0</td>\n",
       "      <td>10800000.0</td>\n",
       "      <td>1445 Sq Ft Ready Flat For Sale In Banasree, Wi...</td>\n",
       "      <td>Choosing a new home can be an overwhelming exp...</td>\n",
       "      <td>https://www.bproperty.com/en/property/details-...</td>\n",
       "      <td>Sale</td>\n",
       "      <td>Dhaka</td>\n",
       "      <td>Banasree</td>\n",
       "      <td>bproperty-4</td>\n",
       "      <td>1445 sq ft ready flat for sale in banasree, wi...</td>\n",
       "    </tr>\n",
       "  </tbody>\n",
       "</table>\n",
       "</div>"
      ],
      "text/plain": [
       "     area building_type building_nature  \\\n",
       "0  1185.0     Apartment     Residential   \n",
       "1  2464.0     Apartment     Residential   \n",
       "2  1140.0     Apartment     Residential   \n",
       "3  1920.0     Apartment     Residential   \n",
       "4  1445.0     Apartment     Residential   \n",
       "\n",
       "                                           image_url  num_bath_rooms  \\\n",
       "0  https://images-cdn.bproperty.com/thumbnails/15...             0.0   \n",
       "1  https://images-cdn.bproperty.com/thumbnails/15...             4.0   \n",
       "2  https://images-cdn.bproperty.com/thumbnails/15...             0.0   \n",
       "3  https://images-cdn.bproperty.com/thumbnails/15...             3.0   \n",
       "4  https://images-cdn.bproperty.com/thumbnails/15...             3.0   \n",
       "\n",
       "   num_bed_rooms       price  \\\n",
       "0            3.0   6100000.0   \n",
       "1            3.0  28900000.0   \n",
       "2            3.0   7500000.0   \n",
       "3            3.0  20000000.0   \n",
       "4            3.0  10800000.0   \n",
       "\n",
       "                                property_description  \\\n",
       "0  Grab This 1185 Sq Ft Beautiful Flat Is Vacant ...   \n",
       "1  A Vibrant 2464 Sq Ft Residential Flat For Sale...   \n",
       "2  1140 Sq Ft Nicely Planned Apartment Is Availab...   \n",
       "3  A Modern Well-planned Apartment Of 1920 Sq Ft ...   \n",
       "4  1445 Sq Ft Ready Flat For Sale In Banasree, Wi...   \n",
       "\n",
       "                                   property_overview  \\\n",
       "0  This flat consists of facilities you can think...   \n",
       "1  Ready to move in somewhere with everything nea...   \n",
       "2  A spacious 1140  Square Feet apartment in Mirp...   \n",
       "3  Looking for the perfect home that offers a lux...   \n",
       "4  Choosing a new home can be an overwhelming exp...   \n",
       "\n",
       "                                        property_url purpose   city  \\\n",
       "0  https://www.bproperty.com/en/property/details-...    Sale  Dhaka   \n",
       "1  https://www.bproperty.com/en/property/details-...    Sale  Dhaka   \n",
       "2  https://www.bproperty.com/en/property/details-...    Sale  Dhaka   \n",
       "3  https://www.bproperty.com/en/property/details-...    Sale  Dhaka   \n",
       "4  https://www.bproperty.com/en/property/details-...    Sale  Dhaka   \n",
       "\n",
       "          locality           id  \\\n",
       "0         Khilgaon  bproperty-0   \n",
       "1        Dhanmondi  bproperty-1   \n",
       "2           Mirpur  bproperty-2   \n",
       "3  Bashundhara R-A  bproperty-3   \n",
       "4         Banasree  bproperty-4   \n",
       "\n",
       "                                            overview  \n",
       "0  grab this 1185 sq ft beautiful flat is vacant ...  \n",
       "1  a vibrant 2464 sq ft residential flat for sale...  \n",
       "2  1140 sq ft nicely planned apartment is availab...  \n",
       "3  a modern well-planned apartment of 1920 sq ft ...  \n",
       "4  1445 sq ft ready flat for sale in banasree, wi...  "
      ]
     },
     "execution_count": 13,
     "metadata": {},
     "output_type": "execute_result"
    }
   ],
   "source": [
    "df.head()"
   ]
  },
  {
   "cell_type": "code",
   "execution_count": 14,
   "id": "133decb3",
   "metadata": {},
   "outputs": [],
   "source": [
    "import nltk\n",
    "from nltk.stem.porter import PorterStemmer\n",
    "ps = PorterStemmer()"
   ]
  },
  {
   "cell_type": "code",
   "execution_count": 15,
   "id": "353d6a0d",
   "metadata": {},
   "outputs": [],
   "source": [
    "def stem(text):\n",
    "    y = []\n",
    "    for x in text.split():\n",
    "        y.append(ps.stem(x))\n",
    "    \n",
    "    return \" \".join(y)"
   ]
  },
  {
   "cell_type": "code",
   "execution_count": 16,
   "id": "d5bd8954",
   "metadata": {},
   "outputs": [],
   "source": [
    "df['overview'] =df['overview'].apply(stem)"
   ]
  },
  {
   "cell_type": "code",
   "execution_count": 17,
   "id": "4c07f7b3",
   "metadata": {},
   "outputs": [],
   "source": [
    "from sklearn.feature_extraction.text import TfidfVectorizer\n",
    "from sklearn.metrics.pairwise import linear_kernel\n",
    "#Since we use TfidfVectorizer to convert the text into matrix, we can use linear_kernel to get consine similarity, \n",
    "# instad of sklearn's consine_similarity"
   ]
  },
  {
   "cell_type": "code",
   "execution_count": 18,
   "id": "e1d4c1c3",
   "metadata": {},
   "outputs": [],
   "source": [
    "tf_idf = TfidfVectorizer(ngram_range=(2,2),stop_words=\"english\")"
   ]
  },
  {
   "cell_type": "code",
   "execution_count": 19,
   "id": "5adc5339",
   "metadata": {},
   "outputs": [],
   "source": [
    "tfidf_matrix =tf_idf.fit_transform(df['overview'])"
   ]
  },
  {
   "cell_type": "code",
   "execution_count": 20,
   "id": "39f6d76e",
   "metadata": {},
   "outputs": [
    {
     "data": {
      "text/plain": [
       "(17265, 82168)"
      ]
     },
     "execution_count": 20,
     "metadata": {},
     "output_type": "execute_result"
    }
   ],
   "source": [
    "tfidf_matrix.shape"
   ]
  },
  {
   "cell_type": "code",
   "execution_count": 21,
   "id": "7baeae81",
   "metadata": {},
   "outputs": [],
   "source": [
    "cosine_sim = linear_kernel(tfidf_matrix,tfidf_matrix)"
   ]
  },
  {
   "cell_type": "code",
   "execution_count": 22,
   "id": "6ea81223",
   "metadata": {},
   "outputs": [],
   "source": [
    "df = df.reset_index()\n",
    "indices = pd.Series(df.index, index=df['overview'])"
   ]
  },
  {
   "cell_type": "code",
   "execution_count": 23,
   "id": "c95340f7",
   "metadata": {},
   "outputs": [
    {
     "data": {
      "text/plain": [
       "overview\n",
       "grab thi 1185 sq ft beauti flat is vacant for sale in khilgaon thi flat consist of facil you can think of for a proper live standards. the amaz floor plan of thi flat ensur the buyer decis even more right for what they are pursu for. the washroom come with all the up-to-d fixtures. for your delish cook essentials, you are get a conveni kitchen have a nice kitchen counter. you would also have refresh balconi to spend some good famili time in your morn and even hour with your family. there are plenti of place nearbi so go for recreat activ outsid is an easi option to pick as well. make yourself a happi buyer by call us about thi beauti apart right away!                                                                                                                                                                                                                                                                                                                                                                                                                                                                                                                                                                                                                                                                                                                                                                                                                                                                                                                                                                                                                      0\n",
       "a vibrant 2464 sq ft residenti flat for sale in shukrabad readi to move in somewher with everyth nearby? thi apart bear all the necessari facil that you look for in a flat and more. there are mani facil in the flat that are requir to live at ease. util suppli are alway avail and secur servic are present at all time for ensur the safeti of the inhabitants. the washroom and kitchen come with all the modern fixtures. the flat is well secur with the avail of all type of utilities. don’t miss thi remun offer and we are just a call away to close the deal for you!                                                                                                                                                                                                                                                                                                                                                                                                                                                                                                                                                                                                                                                                                                                                                                                                                                                                                                                                                                                                                                                                                                                      1\n",
       "1140 sq ft nice plan apart is avail for sale in section 6, mirpur a spaciou 1140 squar feet apart in mirpur is readi to be your perfect home. there are 3 bed and 3 bath in thi apartment. the apart featur spaciou balconi where you can spend peac time with your family. in thi apart you will get separ space for draw and dine area. and the uniqu design of the tile is a promin featur of the interior of the apartment. there are multipl big window for you to get enough natur light and air insid the house. the apart is well secur with all time secur guard, gas, water and electr are also avail here. in addition, all of your everyday essentials, such as markets, shops, restaurants, and hospitals, are conveni locat in the area. contact us if you are interest in make thi apart your home.                                                                                                                                                                                                                                                                                                                                                                                                                                                                                                                                                                                                                                                                                                                                                                                                                                                                                       2\n",
       "a modern well-plan apart of 1920 sq ft is up for sale is situat in block j, bashundhara r/a look for the perfect home that offer a luxuri lifestyl with all the necessari amenities? look no further than thi stun 1,920 sqft 3 bedroom, 3 bathroom apart locat in the heart of bashundhara r/a. apart from the amaz featur and facil of the apartment, the locat is also a major attraction. the area boast of a plethora of educ institutions, healthcar facilities, and shop mall that cater to all your needs. for famili with children, the area is surround by some of the best educ institut in dhaka, includ north south university, independ university, bangladesh, and american intern univers bangladesh. these institut are well-known for their except academ standard and have produc some of the brightest mind in the country. the healthcar facil in the area are also top-notch, with mani renown hospit and clinic in close proximity. you'll never have to worri about get qualiti healthcar in time of need. some of the notabl hospit in the area includ evercar hospital. when it come to shopping, bashundhara r/a is a shopper' paradise. the area boast of sever shop malls, includ jamuna futur park. these mall offer a wide rang of shop options, from high-end luxuri brand to afford local shops. lastly, the connect of the area is excellent, with easi access to major road and highways. thi ensur that you can easili commut to ani part of the citi without ani hassle. so, what are you wait for? don't miss out on thi opportun to live in one of the best area of dhaka. book a visit today and experi the luxuri lifestyl that bashundhara r/a ha to offer!    3\n",
       "1445 sq ft readi flat for sale in banasree, with splendid featur and price choos a new home can be an overwhelm experi as it involv a lot of decis make and most importantli find the most suitabl location. if you are think of get an apart in the suitabl locat of banasre then we are here to assist your decis as thi flat can be a perfect home for your family. the locat ha a wide varieti of schools, colleges, hospit and shops. you do not have to worri about provid good educ to your children while settl in the location. contact us at your earliest to know more about thi apartment.                                                                                                                                                                                                                                                                                                                                                                                                                                                                                                                                                                                                                                                                                                                                                                                                                                                                                                                                                                                                                                                                                                   4\n",
       "dtype: int64"
      ]
     },
     "execution_count": 23,
     "metadata": {},
     "output_type": "execute_result"
    }
   ],
   "source": [
    "indices.head()"
   ]
  },
  {
   "cell_type": "code",
   "execution_count": 24,
   "id": "38539b84",
   "metadata": {},
   "outputs": [],
   "source": [
    "def recommend(id, cosine_sim=cosine_sim):\n",
    "    # Get the index of the input propertyId\n",
    "    #idx = indices[id]\n",
    "    idx = df[df['id'] == id].index[0]\n",
    "    # Get the pairwise similarity scores between the input Property and all the properties\n",
    "    sim_scores = list(enumerate(cosine_sim[idx]))\n",
    "\n",
    "    # Sort the wines based on the similarity scores\n",
    "    sim_scores = sorted(sim_scores, key=lambda x: x[1], reverse=True)\n",
    "\n",
    "    # Select the top three similarity scores\n",
    "    sim_scores = sim_scores[1:4]\n",
    "\n",
    "    # Get the property variety indices\n",
    "    property_idx_list = [i[0] for i in sim_scores]\n",
    "     \n",
    "    for property_id in property_idx_list :\n",
    "        print(df.iloc[property_id])\n",
    "   \n",
    "    return property_idx_list "
   ]
  },
  {
   "cell_type": "code",
   "execution_count": 25,
   "id": "67121469",
   "metadata": {},
   "outputs": [
    {
     "name": "stdout",
     "output_type": "stream",
     "text": [
      "18\n"
     ]
    }
   ],
   "source": [
    "print(df[df['id'] == 'bproperty-18'].index[0])"
   ]
  },
  {
   "cell_type": "code",
   "execution_count": 26,
   "id": "59bf00a4",
   "metadata": {},
   "outputs": [
    {
     "name": "stdout",
     "output_type": "stream",
     "text": [
      "index                                                               13791\n",
      "area                                                               2600.0\n",
      "building_type                                                       Floor\n",
      "building_nature                                                Commercial\n",
      "image_url               https://images-cdn.bproperty.com/thumbnails/14...\n",
      "num_bath_rooms                                                        0.0\n",
      "num_bed_rooms                                                         0.0\n",
      "price                                                            300000.0\n",
      "property_description    Luxury All Around In This 2600 Square Feet Com...\n",
      "property_overview       This vacant property is an excellent opportuni...\n",
      "property_url            https://www.bproperty.com/en/property/details-...\n",
      "purpose                                                              Rent\n",
      "city                                                                Dhaka\n",
      "locality                                                          Gulshan\n",
      "id                                                        bproperty-13791\n",
      "overview                luxuri all around in thi 2600 squar feet comme...\n",
      "Name: 13745, dtype: object\n",
      "index                                                               13296\n",
      "area                                                              10000.0\n",
      "building_type                                                       Floor\n",
      "building_nature                                                Commercial\n",
      "image_url               https://images-cdn.bproperty.com/thumbnails/15...\n",
      "num_bath_rooms                                                        0.0\n",
      "num_bed_rooms                                                         0.0\n",
      "price                                                            650000.0\n",
      "property_description    10000 Square Feet Spacious Commercial Floor Is...\n",
      "property_overview       This vacant property is an excellent opportuni...\n",
      "property_url            https://www.bproperty.com/en/property/details-...\n",
      "purpose                                                              Rent\n",
      "city                                                                Dhaka\n",
      "locality                                                          Tejgaon\n",
      "id                                                        bproperty-13296\n",
      "overview                10000 squar feet spaciou commerci floor is for...\n",
      "Name: 13252, dtype: object\n",
      "index                                                               12951\n",
      "area                                                                987.0\n",
      "building_type                                                      Office\n",
      "building_nature                                                Commercial\n",
      "image_url               https://images-cdn.bproperty.com/thumbnails/14...\n",
      "num_bath_rooms                                                        0.0\n",
      "num_bed_rooms                                                         0.0\n",
      "price                                                            100000.0\n",
      "property_description    987 Square Feet Commercial Office Space Is Rea...\n",
      "property_overview       This vacant property is an excellent opportuni...\n",
      "property_url            https://www.bproperty.com/en/property/details-...\n",
      "purpose                                                              Rent\n",
      "city                                                                Dhaka\n",
      "locality                                                          Gulshan\n",
      "id                                                        bproperty-12951\n",
      "overview                987 squar feet commerci offic space is readi a...\n",
      "Name: 12907, dtype: object\n"
     ]
    },
    {
     "data": {
      "text/plain": [
       "[13745, 13252, 12907]"
      ]
     },
     "execution_count": 26,
     "metadata": {},
     "output_type": "execute_result"
    }
   ],
   "source": [
    "recommend('bproperty-18')"
   ]
  },
  {
   "cell_type": "code",
   "execution_count": null,
   "id": "36748b78",
   "metadata": {},
   "outputs": [],
   "source": []
  }
 ],
 "metadata": {
  "kernelspec": {
   "display_name": "Python 3 (ipykernel)",
   "language": "python",
   "name": "python3"
  },
  "language_info": {
   "codemirror_mode": {
    "name": "ipython",
    "version": 3
   },
   "file_extension": ".py",
   "mimetype": "text/x-python",
   "name": "python",
   "nbconvert_exporter": "python",
   "pygments_lexer": "ipython3",
   "version": "3.9.13"
  }
 },
 "nbformat": 4,
 "nbformat_minor": 5
}
